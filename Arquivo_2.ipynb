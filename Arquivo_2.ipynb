{
 "metadata": {
  "language_info": {
   "codemirror_mode": {
    "name": "ipython",
    "version": 3
   },
   "file_extension": ".py",
   "mimetype": "text/x-python",
   "name": "python",
   "nbconvert_exporter": "python",
   "pygments_lexer": "ipython3",
   "version": "3.7.6-final"
  },
  "orig_nbformat": 2,
  "kernelspec": {
   "name": "python3",
   "display_name": "Python 3"
  }
 },
 "nbformat": 4,
 "nbformat_minor": 2,
 "cells": [
  {
   "source": [
    "### Projeto 2 Ciência dos dados\n",
    "\n",
    "Nome: Bruno Boldrim Saboya\n",
    "\n",
    "Nome: Lucas Kang\n",
    "\n",
    "Nome: Murilo Prado Weyne"
   ],
   "cell_type": "markdown",
   "metadata": {}
  },
  {
   "source": [
    "### Primeiros passos:\n",
    "\n",
    "Estaremos trabalhando com apenas um arquivo .csv que contém todos as informações do nosso DataSet. Para então trabalharmos em cima desse arquivo."
   ],
   "cell_type": "markdown",
   "metadata": {}
  },
  {
   "cell_type": "code",
   "execution_count": 4,
   "metadata": {},
   "outputs": [],
   "source": [
    "import pandas as pd\n",
    "import numpy as np\n",
    "# Read the data from CSV files\n",
    "dados = pd.read_csv('tripadvisor_hotel_reviews.csv', error_bad_lines=False)\n"
   ]
  },
  {
   "source": [
    "### Segundo passo:\n",
    "\n",
    "Transformamos o nosso DataSet em uma lista contínua para trabalharmos melhor com ele."
   ],
   "cell_type": "markdown",
   "metadata": {}
  },
  {
   "cell_type": "code",
   "execution_count": 60,
   "metadata": {},
   "outputs": [],
   "source": [
    "dados_to = dados['Review'].tolist()"
   ]
  },
  {
   "source": [
    "### ClenaUp\n",
    "\n",
    "Realizamos uma função ClenaUp no nosso arquivo para remover todos os itens desnecessários, como pontuação, acentos, entre outros. Pois assim, o Naive Bayes terá uma acurácia maior por nao ter um monte de ruidos no meio do arquivo."
   ],
   "cell_type": "markdown",
   "metadata": {}
  },
  {
   "cell_type": "code",
   "execution_count": 66,
   "metadata": {},
   "outputs": [],
   "source": [
    "def cleanup(text):\n",
    "    #import string\n",
    "    punctuation = '[!-.:?;\"@\\n_/]' # Note que os sinais [] são delimitadores de um conjunto.\n",
    "    pattern = re.compile(punctuation)\n",
    "    text_subbed = re.sub(pattern, '', text)\n",
    "    return text_subbed\n",
    "\n",
    "dados_cn = []\n",
    "for i in dados_to:\n",
    "    i = cleanup(i)\n",
    "    dados_cn.append(i)"
   ]
  },
  {
   "cell_type": "code",
   "execution_count": 14,
   "metadata": {},
   "outputs": [],
   "source": [
    "from sklearn.pipeline import Pipeline\n",
    "from sklearn.naive_bayes import MultinomialNB\n",
    "from sklearn.feature_extraction.text import CountVectorizer, TfidfTransformer\n",
    "from sklearn.model_selection import train_test_split, GridSearchCV\n",
    "text_clf = Pipeline([('vect', CountVectorizer()),\n",
    "                     ('tfidf', TfidfTransformer()),\n",
    "                     ('clf', MultinomialNB())])\n",
    "tuned_parameters = {\n",
    "    'vect__ngram_range': [(1, 1), (1, 2), (2, 2)],\n",
    "    'tfidf__use_idf': (True, False),\n",
    "    'tfidf__norm': ('l1', 'l2'),\n",
    "    'clf__alpha': [1, 1e-1, 1e-2]}"
   ]
  },
  {
   "cell_type": "code",
   "execution_count": null,
   "metadata": {},
   "outputs": [],
   "source": []
  },
  {
   "cell_type": "code",
   "execution_count": 70,
   "metadata": {},
   "outputs": [],
   "source": [
    "x_train, x_test, y_train, y_test = train_test_split(dados_cn, dados['Rating'], test_size=0.3, random_state=42)"
   ]
  },
  {
   "cell_type": "code",
   "execution_count": 73,
   "metadata": {},
   "outputs": [
    {
     "output_type": "stream",
     "name": "stdout",
     "text": [
      "              precision    recall  f1-score   support\n\n           1     0.7545    0.3843    0.5092       432\n           2     0.3647    0.2447    0.2929       523\n           3     0.3012    0.0388    0.0687       645\n           4     0.4370    0.3969    0.4160      1887\n           5     0.6243    0.8869    0.7328      2661\n\n    accuracy                         0.5576      6148\n   macro avg     0.4964    0.3903    0.4039      6148\nweighted avg     0.5200    0.5576    0.5128      6148\n\n"
     ]
    }
   ],
   "source": [
    "from sklearn.metrics import classification_report\n",
    "clf = GridSearchCV(text_clf, tuned_parameters, cv=10)\n",
    "clf.fit(x_train, y_train)\n",
    "\n",
    "print(classification_report(y_test, clf.predict(x_test), digits=4))"
   ]
  },
  {
   "cell_type": "code",
   "execution_count": 81,
   "metadata": {},
   "outputs": [],
   "source": [
    "from nltk.tokenize import word_tokenize\n",
    "from nltk.corpus import stopwords\n",
    "\n",
    "def cleanup2(text):\n",
    "    #import string\n",
    "    punctuation = '[!-.:?;\"@\\n_/]' # Note que os sinais [] são delimitadores de um conjunto.\n",
    "    pattern = re.compile(punctuation)\n",
    "    text_subbed = re.sub(pattern, '', text)\n",
    "    text_final = re.sub(r'\\d+', '', text_subbed)\n",
    "    stop_words = set(stopwords.words('english'))\n",
    "    tokens = word_tokenize(text_final)\n",
    "    text_final = [i for i in tokens if not i in stop_words]\n",
    "    text_final = ' '.join(text_final)\n",
    "    return text_final\n",
    "\n",
    "dados_cn2 = []\n",
    "for i in dados_to:\n",
    "    i = cleanup2(i)\n",
    "    dados_cn2.append(i)"
   ]
  },
  {
   "cell_type": "code",
   "execution_count": 82,
   "metadata": {},
   "outputs": [],
   "source": [
    "x_train2, x_test2, y_train2, y_test2 = train_test_split(dados_cn2, dados['Rating'], test_size=0.3, random_state=42)"
   ]
  },
  {
   "cell_type": "code",
   "execution_count": null,
   "metadata": {},
   "outputs": [],
   "source": [
    "from sklearn.metrics import classification_report\n",
    "clf = GridSearchCV(text_clf, tuned_parameters, cv=1)\n",
    "clf.fit(x_train2, y_train2)\n",
    "\n",
    "print(classification_report(y_test, clf.predict(x_test), digits=4))"
   ]
  }
 ]
}