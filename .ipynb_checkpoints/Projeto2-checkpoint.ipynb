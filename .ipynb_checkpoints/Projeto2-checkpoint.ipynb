{
 "cells": [
  {
   "cell_type": "markdown",
   "metadata": {},
   "source": [
    "### Projeto 2 Ciência dos dados\n",
    "\n",
    "Nome: Bruno Boldrim Saboya\n",
    "\n",
    "Nome: Lucas Kang\n",
    "\n",
    "Nome: Murilo Prado Weyne"
   ]
  },
  {
   "cell_type": "markdown",
   "metadata": {},
   "source": [
    "### Primeiros passos:\n",
    "\n",
    "Estaremos trabalhando com apenas um arquivo .csv que contém todos as informações do nosso DataSet. Para então trabalharmos em cima desse arquivo."
   ]
  },
  {
   "cell_type": "code",
   "execution_count": 68,
   "metadata": {},
   "outputs": [],
   "source": [
    "import pandas as pd\n",
    "import numpy as np\n",
    "import re\n",
    "# Read the data from CSV files\n",
    "dados = pd.read_csv('tripadvisor_hotel_reviews.csv', error_bad_lines=False)\n"
   ]
  },
  {
   "cell_type": "markdown",
   "metadata": {},
   "source": [
    "### Segundo passo:\n",
    "\n",
    "Transformamos o nosso DataSet em uma lista contínua para trabalharmos melhor com ele."
   ]
  },
  {
   "cell_type": "code",
   "execution_count": 69,
   "metadata": {},
   "outputs": [],
   "source": [
    "dados_to = dados['Review'].tolist()"
   ]
  },
  {
   "cell_type": "markdown",
   "metadata": {},
   "source": [
    "### CleanUp\n",
    "\n",
    "Realizamos uma função CleanUp no nosso arquivo para remover todos os itens desnecessários, como pontuação, acentos, entre outros. Pois assim, o Naive Bayes terá uma acurácia maior por nao ter um monte de \"ruidos\" no meio do arquivo."
   ]
  },
  {
   "cell_type": "code",
   "execution_count": 70,
   "metadata": {},
   "outputs": [],
   "source": [
    "def cleanup(text):\n",
    "    #import string\n",
    "    punctuation = '[!-.:?;\"@\\n_/]' # Note que os sinais [] são delimitadores de um conjunto.\n",
    "    pattern = re.compile(punctuation)\n",
    "    text_subbed = re.sub(pattern, '', text)\n",
    "    return text_subbed\n",
    "\n",
    "dados_cn = []\n",
    "for i in dados_to:\n",
    "    i = cleanup(i)\n",
    "    dados_cn.append(i)"
   ]
  },
  {
   "cell_type": "markdown",
   "metadata": {},
   "source": [
    "### Criação dos paremetros:\n",
    "\n",
    "Criamos aqui os parametros que serão utilizados no nosso classificador. Os valores que escolhemos foi baseado em um cálculo e identificamos quais serão os melhores para o nosso classificador em específico.\n",
    "\n",
    "Utilizaremos um Pipeline para guiar o nosso arquivo e ser transformado em um vetor com o CountVectorizer, e em seguida ser transformado em um Tfid."
   ]
  },
  {
   "cell_type": "code",
   "execution_count": 71,
   "metadata": {},
   "outputs": [],
   "source": [
    "from sklearn.pipeline import Pipeline\n",
    "from sklearn.naive_bayes import MultinomialNB\n",
    "from sklearn.feature_extraction.text import CountVectorizer, TfidfTransformer\n",
    "from sklearn.model_selection import train_test_split, GridSearchCV\n",
    "text_clf = Pipeline([('vect', CountVectorizer()),\n",
    "                     ('tfidf', TfidfTransformer()),\n",
    "                     ('clf', MultinomialNB())])\n",
    "tuned_parameters = {\n",
    "    'vect__ngram_range': [(1, 1), (1, 2), (2, 2)],\n",
    "    'tfidf__use_idf': (True, False),\n",
    "    'tfidf__norm': ('l1', 'l2'),\n",
    "    'clf__alpha': [1, 1e-1, 1e-2]}"
   ]
  },
  {
   "cell_type": "markdown",
   "metadata": {},
   "source": [
    "### Espaço de testes:\n",
    "\n",
    "Criamos uma base de teste e de treinamento para o nosso classificador com a função \"train_test_split\". Utilizaremos 30% da nossa base inteira para realizar os testes e 70% para treinar o nosso classificador."
   ]
  },
  {
   "cell_type": "code",
   "execution_count": 72,
   "metadata": {},
   "outputs": [],
   "source": [
    "x_train, x_test, y_train, y_test = train_test_split(dados_cn, dados['Rating'], test_size=0.3, random_state=42)"
   ]
  },
  {
   "cell_type": "markdown",
   "metadata": {},
   "source": [
    "### Naive Bayes Multinomial:\n",
    "\n",
    "Utilizaremos os nosso parametros previamente definidos na variável \"tunned_parameters\" junto com o nosso pipeline que vetoriza e classifica a lista com a variável \"text_clf\".\n",
    "\n",
    "A função \"clf.fit\" realiza os nossos treinos e aprimora a precisão e o \"print imprime em formato de tabela todas as informações que o teste junto do treinamento obteve. \n",
    "\n",
    "O \"cv\" define a quantidade de vezes que será realizado os testes e os treinamentos "
   ]
  },
  {
   "cell_type": "code",
   "execution_count": 73,
   "metadata": {},
   "outputs": [
    {
     "name": "stdout",
     "output_type": "stream",
     "text": [
      "              precision    recall  f1-score   support\n",
      "\n",
      "           1     0.7545    0.3843    0.5092       432\n",
      "           2     0.3647    0.2447    0.2929       523\n",
      "           3     0.3012    0.0388    0.0687       645\n",
      "           4     0.4370    0.3969    0.4160      1887\n",
      "           5     0.6243    0.8869    0.7328      2661\n",
      "\n",
      "    accuracy                         0.5576      6148\n",
      "   macro avg     0.4964    0.3903    0.4039      6148\n",
      "weighted avg     0.5200    0.5576    0.5128      6148\n",
      "\n"
     ]
    }
   ],
   "source": [
    "from sklearn.metrics import classification_report\n",
    "clf = GridSearchCV(text_clf, tuned_parameters, cv=2)\n",
    "clf.fit(x_train, y_train)\n",
    "\n",
    "print(classification_report(y_test, clf.predict(x_test), digits=4))"
   ]
  },
  {
   "cell_type": "markdown",
   "metadata": {},
   "source": [
    "### Melhorar a precisão:\n",
    "\n",
    "Percebemos que o nosso classificador não possui uma eficássia que desejávamos, para isso, melhoramos o nosso cleanup. Utilizando um stopwords, retirando mais caracteres desnecessários, etc."
   ]
  },
  {
   "cell_type": "code",
   "execution_count": 74,
   "metadata": {},
   "outputs": [],
   "source": [
    "from nltk.tokenize import word_tokenize\n",
    "from nltk.corpus import stopwords\n",
    "\n",
    "def cleanup2(text):\n",
    "    #import string\n",
    "    punctuation = '[!-.:?;\"@\\n_/]' # Note que os sinais [] são delimitadores de um conjunto.\n",
    "    pattern = re.compile(punctuation)\n",
    "    text_subbed = re.sub(pattern, '', text)\n",
    "    text_final = re.sub(r'\\d+', '', text_subbed)\n",
    "    stop_words = set(stopwords.words('english'))\n",
    "    tokens = word_tokenize(text_final)\n",
    "    text_final = [i for i in tokens if not i in stop_words]\n",
    "    text_final = ' '.join(text_final)\n",
    "    return text_final\n",
    "\n",
    "dados_cn2 = []\n",
    "for i in dados_to:\n",
    "    i = cleanup2(i)\n",
    "    dados_cn2.append(i)"
   ]
  },
  {
   "cell_type": "markdown",
   "metadata": {},
   "source": [
    "### Base de testes:\n",
    "\n",
    "Criamos novamente um campo de testes e treinamento com a nova lista limpa com os mesmos parâmetros que o campo anterior"
   ]
  },
  {
   "cell_type": "code",
   "execution_count": 80,
   "metadata": {},
   "outputs": [],
   "source": [
    "x_train2, x_test2, y_train2, y_test2 = train_test_split(dados_cn2, dados['Rating'], test_size=0.3, random_state=42)"
   ]
  },
  {
   "cell_type": "markdown",
   "metadata": {},
   "source": [
    "### Naive Bayes Multinomial:\n",
    "\n",
    "Realizamos novamente o cálculo das probabilidades com os mesmos parametros e vetorização da lista"
   ]
  },
  {
   "cell_type": "code",
   "execution_count": 86,
   "metadata": {},
   "outputs": [
    {
     "name": "stdout",
     "output_type": "stream",
     "text": [
      "              precision    recall  f1-score   support\n",
      "\n",
      "           1     0.7706    0.4120    0.5370       432\n",
      "           2     0.3743    0.2447    0.2960       523\n",
      "           3     0.3133    0.0403    0.0714       645\n",
      "           4     0.4403    0.3985    0.4184      1887\n",
      "           5     0.6239    0.8873    0.7327      2661\n",
      "\n",
      "    accuracy                         0.5603      6148\n",
      "   macro avg     0.5045    0.3966    0.4111      6148\n",
      "weighted avg     0.5240    0.5603    0.5159      6148\n",
      "\n"
     ]
    }
   ],
   "source": [
    "from sklearn.metrics import classification_report\n",
    "clf = GridSearchCV(text_clf, tuned_parameters, cv=2)\n",
    "clf.fit(x_train2, y_train2)\n",
    "\n",
    "print(classification_report(y_test2, clf.predict(x_test2), digits=4))"
   ]
  },
  {
   "cell_type": "markdown",
   "metadata": {},
   "source": [
    "### Melhorar a precisão com Lemming:\n",
    "\n",
    "Decidimos então por fim, para tentar melhorar ainda mais a precisão do nosso classificador utilizar Lemming, que consiste basicamente em trocar todas as palavras cuja grafia sejam parecidas, por apenas uma.\n",
    "\n",
    "Exemplo: change/changing/changes/changed/changer serão todas substituídas por change"
   ]
  },
  {
   "cell_type": "code",
   "execution_count": 87,
   "metadata": {},
   "outputs": [],
   "source": [
    "import nltk\n",
    "from nltk.stem.wordnet import WordNetLemmatizer\n",
    "\n",
    "dados_cn3 = []\n",
    "for k in dados_cn2:\n",
    "    k = k.split()\n",
    "    dados_cn3.append(k)\n",
    "    \n",
    "dados_cn4 = []\n",
    "for z in dados_cn3:\n",
    "    words = z\n",
    "    lemmed_words = [WordNetLemmatizer().lemmatize(w) for w in words]\n",
    "    dados_cn4.append(lemmed_words)"
   ]
  },
  {
   "cell_type": "markdown",
   "metadata": {},
   "source": [
    "### Consertando a lista:\n",
    "\n",
    "Realizamos um \"join\" para arrumar a nossa lista para poder ser utilizada no classificador"
   ]
  },
  {
   "cell_type": "code",
   "execution_count": 88,
   "metadata": {},
   "outputs": [],
   "source": [
    "dados_cn5 = []\n",
    "for j in dados_cn4:\n",
    "    frase_junta = j\n",
    "    for g in frase_junta:\n",
    "        junta_frases = \" \".join(frase_junta)\n",
    "    dados_cn5.append(junta_frases)"
   ]
  },
  {
   "cell_type": "markdown",
   "metadata": {},
   "source": [
    "### Base de testes:\n",
    "\n",
    "Criamos novamente um campo de testes e treinamento com a nova lista limpa com os mesmos parâmetros que o campo anterior"
   ]
  },
  {
   "cell_type": "code",
   "execution_count": 89,
   "metadata": {},
   "outputs": [],
   "source": [
    "x_train3, x_test3, y_train3, y_test3 = train_test_split(dados_cn5, dados['Rating'], test_size=0.3, random_state=42)"
   ]
  },
  {
   "cell_type": "markdown",
   "metadata": {},
   "source": [
    "### Naive Bayes Multinomial:\n",
    "\n",
    "Realizamos novamente o cálculo das probabilidades com os mesmos parametros e vetorização da lista"
   ]
  },
  {
   "cell_type": "code",
   "execution_count": 90,
   "metadata": {},
   "outputs": [
    {
     "name": "stdout",
     "output_type": "stream",
     "text": [
      "              precision    recall  f1-score   support\n",
      "\n",
      "           1     0.7928    0.4074    0.5382       432\n",
      "           2     0.3791    0.2428    0.2960       523\n",
      "           3     0.3165    0.0388    0.0691       645\n",
      "           4     0.4324    0.3863    0.4081      1887\n",
      "           5     0.6202    0.8918    0.7316      2661\n",
      "\n",
      "    accuracy                         0.5579      6148\n",
      "   macro avg     0.5082    0.3934    0.4086      6148\n",
      "weighted avg     0.5223    0.5579    0.5122      6148\n",
      "\n"
     ]
    }
   ],
   "source": [
    "from sklearn.metrics import classification_report\n",
    "clf = GridSearchCV(text_clf, tuned_parameters, cv=2)\n",
    "clf.fit(x_train3, y_train3)\n",
    "\n",
    "print(classification_report(y_test3, clf.predict(x_test3), digits=4))"
   ]
  },
  {
   "cell_type": "markdown",
   "metadata": {},
   "source": [
    "## Conclusão\n",
    "\n",
    "Utilizamos então, o classificador Multinomial Naive Bayes para classificar os *Reviews* de hotel do nosso *dataset* a fim de identificar padrões e palavras chaves nos *reviews* novos e classificá-las em cinco categorias, péssimo, ruim, neutro, bom e ótimo.\n",
    "\n",
    "Para classificar as palavras, tivemos que limpar o nosso dataset, ou seja, retirar pontuações e subsstituir letras maiúsculas por minúsculas. No teste inicial, tivemos um bom resultado, mas como algumas categorias (categoria 2, 3 e 4) não obtiveram um resultado satisfatório, resolvemos melhorar o classificador.\n",
    "\n",
    "\n",
    "Para melhorar o classificador, criamos uma nova função que retirava palavras em inglês que não tinham relevância para o nosso cálculo. Porém, isto não trouxe os resultados que tínhamos como alvo.\n",
    "\n",
    "\n",
    "Ainda não satisfeitos com os novos resultados das precisões dos *ratings* 2 e 3 que continuavam abaixo de 40%, seguimos para uma outra melhoria: o processo de Lemmatization, que troca as palavras parecidas por apenas uma, a raiz dela. Ao calcular a probabilidade com este novo melhoramento, não obtivemos resultados satisfatórios, pois os dois *ratings*, 2 e 3, ainda estavam abaixo de 40%."
   ]
  },
  {
   "cell_type": "markdown",
   "metadata": {},
   "source": [
    "### Referências utilizadas em nosso projeto:\n",
    "\n",
    "Dataset utilizado:\n",
    "https://www.kaggle.com/andrewmvd/trip-advisor-hotel-reviews\n",
    "\n",
    "Diferença entre *stemming* e *lemmatization*:\n",
    "https://medium.com/swlh/introduction-to-stemming-vs-lemmatization-nlp-8c69eb43ecfe\n",
    "\n",
    "Descrição do classificador Naive Bayes e dos parâmetros utilizados por ele:\n",
    "https://scikit-learn.org/stable/modules/generated/sklearn.naive_bayes.MultinomialNB.html\n",
    "\n",
    "Descrição mais abrangente do Naive Bayes e um exemplo sendo feito em python:\n",
    "https://towardsdatascience.com/sentiment-analysis-of-tweets-using-multinomial-naive-bayes-1009ed24276b"
   ]
  },
  {
   "cell_type": "code",
   "execution_count": null,
   "metadata": {},
   "outputs": [],
   "source": []
  }
 ],
 "metadata": {
  "kernelspec": {
   "display_name": "Python 3",
   "language": "python",
   "name": "python3"
  },
  "language_info": {
   "codemirror_mode": {
    "name": "ipython",
    "version": 3
   },
   "file_extension": ".py",
   "mimetype": "text/x-python",
   "name": "python",
   "nbconvert_exporter": "python",
   "pygments_lexer": "ipython3",
   "version": "3.7.3"
  }
 },
 "nbformat": 4,
 "nbformat_minor": 2
}
