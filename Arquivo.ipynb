{
 "metadata": {
  "language_info": {
   "codemirror_mode": {
    "name": "ipython",
    "version": 3
   },
   "file_extension": ".py",
   "mimetype": "text/x-python",
   "name": "python",
   "nbconvert_exporter": "python",
   "pygments_lexer": "ipython3",
   "version": "3.7.6-final"
  },
  "orig_nbformat": 2,
  "kernelspec": {
   "name": "python3",
   "display_name": "Python 3"
  }
 },
 "nbformat": 4,
 "nbformat_minor": 2,
 "cells": [
  {
   "source": [
    "### Projeto 2 CDados\n",
    "\n",
    "Nome: Bruno Boldrim Saboya\n",
    "\n",
    "Nome: Lucas Kang\n",
    "\n",
    "Nome: Murilo Prado Weyne"
   ],
   "cell_type": "markdown",
   "metadata": {}
  },
  {
   "source": [
    "Carregamos aqui as bibliotecas que utilizaremos nesse projeto:"
   ],
   "cell_type": "markdown",
   "metadata": {}
  },
  {
   "cell_type": "code",
   "execution_count": 3,
   "metadata": {},
   "outputs": [],
   "source": [
    "%matplotlib inline\n",
    "import pandas as pd\n",
    "import matplotlib.pyplot as plt\n",
    "import numpy as np\n",
    "import os\n",
    "import re\n",
    "from collections import Counter\n",
    "from sklearn.model_selection import train_test_split\n",
    "from sklearn.naive_bayes import GaussianNB"
   ]
  },
  {
   "source": [
    "Carregamos aqui o arquivo do Data Set que será utilizado:"
   ],
   "cell_type": "markdown",
   "metadata": {}
  },
  {
   "cell_type": "code",
   "execution_count": 4,
   "metadata": {},
   "outputs": [],
   "source": [
    "dados = pd.read_csv(\"tripadvisor_hotel_reviews.csv\")"
   ]
  },
  {
   "source": [
    "Mudamos então os Rating de números para categorias para trabalharmos apenas com variáveis qualitativas"
   ],
   "cell_type": "markdown",
   "metadata": {}
  },
  {
   "cell_type": "code",
   "execution_count": 5,
   "metadata": {},
   "outputs": [],
   "source": [
    "dados.loc[:,'Rating'] = dados['Rating'].astype('category')\n",
    "dados['Rating'].cat.categories = ['Péssimo', 'Ruim', 'Bom', 'Ótimo', 'Excelente']\n"
   ]
  },
  {
   "source": [
    "Criamos uma  variával para realizar o treinamento do classificador para aprimorá-lô assim como uma variával de testes para verificar se o nosso classificador está funcionando corretamente\n"
   ],
   "cell_type": "markdown",
   "metadata": {}
  },
  {
   "cell_type": "code",
   "execution_count": 6,
   "metadata": {},
   "outputs": [],
   "source": [
    "dados_treinamento, dados_teste = train_test_split(dados, test_size = 0.3, random_state = 42)"
   ]
  },
  {
   "cell_type": "code",
   "execution_count": null,
   "metadata": {},
   "outputs": [],
   "source": []
  },
  {
   "cell_type": "code",
   "execution_count": null,
   "metadata": {},
   "outputs": [],
   "source": []
  },
  {
   "cell_type": "code",
   "execution_count": null,
   "metadata": {},
   "outputs": [],
   "source": []
  },
  {
   "source": [
    "Separamos então cada categoria do treinamento e colocamos em uma variável para observarmos "
   ],
   "cell_type": "markdown",
   "metadata": {}
  },
  {
   "cell_type": "code",
   "execution_count": 7,
   "metadata": {},
   "outputs": [],
   "source": [
    "estrelas = dados_treinamento['Rating'] == 'Excelente'\n",
    "estrelas5 = dados_treinamento.loc[estrelas, ['Review']].copy()"
   ]
  },
  {
   "cell_type": "code",
   "execution_count": 8,
   "metadata": {},
   "outputs": [],
   "source": [
    "estrelas = dados_treinamento['Rating'] == 'Ótimo'\n",
    "estrelas4 = dados_treinamento.loc[estrelas, ['Review']].copy()"
   ]
  },
  {
   "cell_type": "code",
   "execution_count": 9,
   "metadata": {},
   "outputs": [],
   "source": [
    "estrelas = dados_treinamento['Rating'] == 'Bom'\n",
    "estrelas3 = dados_treinamento.loc[estrelas, ['Review']].copy()"
   ]
  },
  {
   "cell_type": "code",
   "execution_count": 10,
   "metadata": {},
   "outputs": [],
   "source": [
    "estrelas = dados_treinamento['Rating'] == 'Ruim'\n",
    "estrelas2 = dados_treinamento.loc[estrelas, ['Review']].copy()"
   ]
  },
  {
   "cell_type": "code",
   "execution_count": 11,
   "metadata": {},
   "outputs": [],
   "source": [
    "estrelas = dados_treinamento['Rating'] == 'Péssimo'\n",
    "estrelas1 = dados_treinamento.loc[estrelas, ['Review']].copy()"
   ]
  },
  {
   "cell_type": "code",
   "execution_count": 12,
   "metadata": {},
   "outputs": [],
   "source": [
    "lista5 = estrelas5['Review'].tolist()\n",
    "lista4 = estrelas4['Review'].tolist()\n",
    "lista3 = estrelas3['Review'].tolist()\n",
    "lista2 = estrelas2['Review'].tolist()\n",
    "lista1 = estrelas1['Review'].tolist()"
   ]
  },
  {
   "cell_type": "code",
   "execution_count": 13,
   "metadata": {},
   "outputs": [],
   "source": [
    "def cleanup(text):\n",
    "    #import string\n",
    "    punctuation = '[!-.:?;\"@\\n_/]' # Note que os sinais [] são delimitadores de um conjunto.\n",
    "    pattern = re.compile(punctuation)\n",
    "    text_subbed = re.sub(pattern, '', text)\n",
    "    \n",
    "    return text_subbed"
   ]
  },
  {
   "cell_type": "code",
   "execution_count": 14,
   "metadata": {},
   "outputs": [],
   "source": [
    "lista5_cn = []\n",
    "for i in lista5:\n",
    "    i = cleanup(i)\n",
    "    lista5_cn.append(i)\n",
    "\n",
    "lista4_cn = []\n",
    "for i in lista4:\n",
    "    i = cleanup(i)\n",
    "    i = i.split()\n",
    "    lista4_cn.append(i)\n",
    "\n",
    "lista3_cn = []\n",
    "for i in lista3:\n",
    "    i = cleanup(i)\n",
    "    i = i.split()\n",
    "    lista3_cn.append(i)\n",
    "\n",
    "lista2_cn = []\n",
    "for i in lista3:\n",
    "    i = cleanup(i)\n",
    "    i = i.split()\n",
    "    lista2_cn.append(i)\n",
    "\n",
    "lista1_cn = []\n",
    "for i in lista1:\n",
    "    i = cleanup(i)\n",
    "    i = i.split()\n",
    "    lista1_cn.append(i)"
   ]
  },
  {
   "source": [
    "encontrar probabilidade de cada palavra que está contida em cada rating aparecer no total das palavras, ou seja, \n",
    "\n",
    "Prob[palavras_estrelas5]/Prob[total_palavras] \n",
    "\n",
    "Prob[palavras_estrelas4]/Prob[total_palavras] "
   ],
   "cell_type": "markdown",
   "metadata": {}
  },
  {
   "cell_type": "code",
   "execution_count": null,
   "metadata": {},
   "outputs": [],
   "source": []
  }
 ]
}